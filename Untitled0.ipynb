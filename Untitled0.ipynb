{
  "nbformat": 4,
  "nbformat_minor": 0,
  "metadata": {
    "colab": {
      "name": "Untitled0.ipynb",
      "provenance": [],
      "collapsed_sections": []
    },
    "kernelspec": {
      "name": "python3",
      "display_name": "Python 3"
    },
    "language_info": {
      "name": "python"
    }
  },
  "cells": [
    {
      "cell_type": "markdown",
      "metadata": {
        "id": "S3nLzt2rBaQC"
      },
      "source": [
        ""
      ]
    },
    {
      "cell_type": "markdown",
      "metadata": {
        "id": "TvoChMrLNmQ9"
      },
      "source": [
        "Inventory Creation"
      ]
    },
    {
      "cell_type": "code",
      "metadata": {
        "id": "r_Pmd399BnEQ"
      },
      "source": [
        "first_shop = {1001 : {'name': 'pen',\n",
        "                         'qty': 50,\n",
        "                         'price': 10,\n",
        "                         'Available':1,\n",
        "                         'Expiry':'5/10/2021'},\n",
        "                1002 : {'name': 'pencil',\n",
        "                         'qty': 100,\n",
        "                         'price': 5,\n",
        "                         'Available':1,\n",
        "                         'Expiry':'10/10/2021'},\n",
        "                1003 : {'name': 'book',\n",
        "                         'qty': 200,\n",
        "                         'price': 50,\n",
        "                         'Available':1,\n",
        "                         'Expiry':'5/11/2021'},\n",
        "                 1004 : {'name': 'notebook',\n",
        "                         'qty': 200,\n",
        "                         'price': 40,\n",
        "                         'Available':1,\n",
        "                         'Expiry':'10/11/2021'},\n",
        "                 1005 : {'name': 'Guide',\n",
        "                         'qty': 20,\n",
        "                         'price': 100,\n",
        "                         'Available':1,\n",
        "                         'Expiry':'15/10/2021'},\n",
        "                 1006 : {'name': 'chart',\n",
        "                         'qty': 50,\n",
        "                         'price': 20,\n",
        "                         'Available':1,\n",
        "                         'Expiry':'5/10/2022'},\n",
        "                 1007 : {'name': 'map',\n",
        "                         'qty': 50,\n",
        "                         'price': 10,\n",
        "                         'Available':1,\n",
        "                         'Expiry':'5/1/2021'},\n",
        "                 1008 : {'name': 'graph',\n",
        "                         'qty': 50,\n",
        "                         'price': 2,\n",
        "                         'Available':1,\n",
        "                         'Expiry':'20/10/2021'},\n",
        "                 1009 : {'name': 'melody',\n",
        "                         'qty': 500,\n",
        "                         'price': 1,\n",
        "                         'Available':1,\n",
        "                         'Expiry':'5/12/2021'},\n",
        "                 1010 : {'name': 'mango bite',\n",
        "                         'qty': 300,\n",
        "                         'price': 1,\n",
        "                         'Available':1,\n",
        "                         'Expiry':'5/10/2022'},\n",
        "                 1011 : {'name': 'popins',\n",
        "                         'qty': 100,\n",
        "                         'price': 5,\n",
        "                         'Available':1,\n",
        "                         'Expiry':'15/10/2022'},\n",
        "                 1012 : {'name': 'little hearts',\n",
        "                         'qty': 100,\n",
        "                         'price': 5,\n",
        "                         'Available':1,\n",
        "                         'Expiry':'15/4/2022'},\n",
        "                 1013 : {'name': 'banana chips',\n",
        "                         'qty': 80,\n",
        "                         'price': 5,\n",
        "                         'Available':1,\n",
        "                         'Expiry':'15/9/2022'},\n",
        "                 1014 : {'name': 'potato chips',\n",
        "                         'qty': 100,\n",
        "                         'price': 5,\n",
        "                         'Available':1,\n",
        "                         'Expiry':'1/10/2022'},\n",
        "                 1015 : {'name': 'wheel',\n",
        "                         'qty': 10,\n",
        "                         'price': 500,\n",
        "                         'Available':1,\n",
        "                         'Expiry':'15/1/2022'},\n",
        "                 1016 : {'name': 'screw driver',\n",
        "                         'qty': 50,\n",
        "                         'price': 15,\n",
        "                         'Available':1,\n",
        "                         'Expiry':'15/7/2021'},\n",
        "                 1017 : {'name': 'scisors',\n",
        "                         'qty': 100,\n",
        "                         'price': 20,\n",
        "                         'Available':1,\n",
        "                         'Expiry':'15/10/2023'},\n",
        "                 1018 : {'name': 'lighter',\n",
        "                         'qty': 10,\n",
        "                         'price': 50,\n",
        "                         'Available':1,\n",
        "                         'Expiry':'1/5/2022'},\n",
        "                 1019 : {'name': 'charger',\n",
        "                         'qty': 30,\n",
        "                         'price': 200,\n",
        "                         'Available':1,\n",
        "                         'Expiry':'15/1/2024'},\n",
        "                 1020 : {'name': 'mobile',\n",
        "                         'qty': 25,\n",
        "                         'price': 10000,\n",
        "                         'Available':1,\n",
        "                         'Expiry':'1/1/2025'},\n",
        "                 1021 : {'name': 'headphone',\n",
        "                         'qty': 30,\n",
        "                         'price': 1000,\n",
        "                         'Available':1,\n",
        "                         'Expiry':'1/1/2025'},\n",
        "                 1022 : {'name': 'earphone',\n",
        "                         'qty': 30,\n",
        "                         'price': 500,\n",
        "                         'Available':1,\n",
        "                         'Expiry':'1/1/2025'},\n",
        "                 1023 : {'name': 'mouse',\n",
        "                         'qty': 20,\n",
        "                         'price': 1000,\n",
        "                         'Available':1,\n",
        "                         'Expiry':'1/1/2025'},\n",
        "                 1024 : {'name': 'project paper',\n",
        "                         'qty': 500,\n",
        "                         'price': 1,\n",
        "                         'Available':1,\n",
        "                         'Expiry':'1/10/2024'},\n",
        "                 1025 : {'name': 'board',\n",
        "                         'qty': 10,\n",
        "                         'price': 300,\n",
        "                         'Available':1,\n",
        "                         'Expiry':'1/10/2025'},\n",
        "                 1026 : {'name': 'battery',\n",
        "                         'qty': 20,\n",
        "                         'price': 200,\n",
        "                         'Available':1,\n",
        "                         'Expiry':'19/1/2022'},\n",
        "                 1027 : {'name': 'cell',\n",
        "                         'qty': 50,\n",
        "                         'price': 10,\n",
        "                         'Available':1,\n",
        "                         'Expiry':'1/1/2021'},\n",
        "                 1028 : {'name': 'bag',\n",
        "                         'qty': 20,\n",
        "                         'price': 100,\n",
        "                         'Available':1,\n",
        "                         'Expiry':'1/10/2023'},\n",
        "                 1029 : {'name': 'purse',\n",
        "                         'qty': 30,\n",
        "                         'price': 150,\n",
        "                         'Available':1,\n",
        "                         'Expiry':'1/1/2025'},\n",
        "                 1030 : {'name': 'wallet',\n",
        "                         'qty': 30,\n",
        "                         'price': 100,\n",
        "                         'Available':1,\n",
        "                         'Expiry':'1/1/2025'},\n",
        "                 1031 : {'name': 'belt',\n",
        "                         'qty': 20,\n",
        "                         'price': 80,\n",
        "                         'Available':1,\n",
        "                         'Expiry':'1/10/2023'},\n",
        "                 1032 : {'name': 'goggle',\n",
        "                         'qty': 50,\n",
        "                         'price': 300,\n",
        "                         'Available':1,\n",
        "                         'Expiry':'1/1/2023'},\n",
        "                 1033 : {'name': 'marker',\n",
        "                         'qty': 50,\n",
        "                         'price': 10,\n",
        "                         'Available':1,\n",
        "                         'Expiry':'1/10/2023'},\n",
        "                 1034 : {'name': 'sketchpen',\n",
        "                         'qty': 40,\n",
        "                         'price': 5,\n",
        "                         'Available':1,\n",
        "                         'Expiry':'10/10/2023'},\n",
        "}"
      ],
      "execution_count": 41,
      "outputs": []
    },
    {
      "cell_type": "code",
      "metadata": {
        "colab": {
          "base_uri": "https://localhost:8080/"
        },
        "id": "Ts3W88sAC7a0",
        "outputId": "352c6988-e208-4432-a6ce-05e6114e1207"
      },
      "source": [
        "type(first_shop)"
      ],
      "execution_count": 42,
      "outputs": [
        {
          "output_type": "execute_result",
          "data": {
            "text/plain": [
              "dict"
            ]
          },
          "metadata": {},
          "execution_count": 42
        }
      ]
    },
    {
      "cell_type": "code",
      "metadata": {
        "id": "O2Mlwc2wDUq5"
      },
      "source": [
        "import json"
      ],
      "execution_count": 43,
      "outputs": []
    },
    {
      "cell_type": "code",
      "metadata": {
        "id": "OvmjaC1hDcRq"
      },
      "source": [
        "data = json.dumps(first_shop)\n",
        "\n",
        "fp = open(\"records.txt\", \"w\")\n",
        "fp.write(data)\n",
        "fp.close()"
      ],
      "execution_count": 44,
      "outputs": []
    },
    {
      "cell_type": "code",
      "metadata": {
        "colab": {
          "base_uri": "https://localhost:8080/"
        },
        "id": "CPSao_h2HHKB",
        "outputId": "d5917a41-c568-435f-9b80-667347d5f175"
      },
      "source": [
        "type(data)"
      ],
      "execution_count": 45,
      "outputs": [
        {
          "output_type": "execute_result",
          "data": {
            "text/plain": [
              "str"
            ]
          },
          "metadata": {},
          "execution_count": 45
        }
      ]
    },
    {
      "cell_type": "code",
      "metadata": {
        "colab": {
          "base_uri": "https://localhost:8080/",
          "height": 120
        },
        "id": "nYenI1syHKV0",
        "outputId": "34eeb8ad-2e36-4465-c41e-b37e07f4f69b"
      },
      "source": [
        "data"
      ],
      "execution_count": 46,
      "outputs": [
        {
          "output_type": "execute_result",
          "data": {
            "application/vnd.google.colaboratory.intrinsic+json": {
              "type": "string"
            },
            "text/plain": [
              "'{\"1001\": {\"name\": \"pen\", \"qty\": 50, \"price\": 10, \"Available\": 1, \"Expiry\": \"5/10/2021\"}, \"1002\": {\"name\": \"pencil\", \"qty\": 100, \"price\": 5, \"Available\": 1, \"Expiry\": \"10/10/2021\"}, \"1003\": {\"name\": \"book\", \"qty\": 200, \"price\": 50, \"Available\": 1, \"Expiry\": \"5/11/2021\"}, \"1004\": {\"name\": \"notebook\", \"qty\": 200, \"price\": 40, \"Available\": 1, \"Expiry\": \"10/11/2021\"}, \"1005\": {\"name\": \"Guide\", \"qty\": 20, \"price\": 100, \"Available\": 1, \"Expiry\": \"15/10/2021\"}, \"1006\": {\"name\": \"chart\", \"qty\": 50, \"price\": 20, \"Available\": 1, \"Expiry\": \"5/10/2022\"}, \"1007\": {\"name\": \"map\", \"qty\": 50, \"price\": 10, \"Available\": 1, \"Expiry\": \"5/1/2021\"}, \"1008\": {\"name\": \"graph\", \"qty\": 50, \"price\": 2, \"Available\": 1, \"Expiry\": \"20/10/2021\"}, \"1009\": {\"name\": \"melody\", \"qty\": 500, \"price\": 1, \"Available\": 1, \"Expiry\": \"5/12/2021\"}, \"1010\": {\"name\": \"mango bite\", \"qty\": 300, \"price\": 1, \"Available\": 1, \"Expiry\": \"5/10/2022\"}, \"1011\": {\"name\": \"popins\", \"qty\": 100, \"price\": 5, \"Available\": 1, \"Expiry\": \"15/10/2022\"}, \"1012\": {\"name\": \"little hearts\", \"qty\": 100, \"price\": 5, \"Available\": 1, \"Expiry\": \"15/4/2022\"}, \"1013\": {\"name\": \"banana chips\", \"qty\": 80, \"price\": 5, \"Available\": 1, \"Expiry\": \"15/9/2022\"}, \"1014\": {\"name\": \"potato chips\", \"qty\": 100, \"price\": 5, \"Available\": 1, \"Expiry\": \"1/10/2022\"}, \"1015\": {\"name\": \"wheel\", \"qty\": 10, \"price\": 500, \"Available\": 1, \"Expiry\": \"15/1/2022\"}, \"1016\": {\"name\": \"screw driver\", \"qty\": 50, \"price\": 15, \"Available\": 1, \"Expiry\": \"15/7/2021\"}, \"1017\": {\"name\": \"scisors\", \"qty\": 100, \"price\": 20, \"Available\": 1, \"Expiry\": \"15/10/2023\"}, \"1018\": {\"name\": \"lighter\", \"qty\": 10, \"price\": 50, \"Available\": 1, \"Expiry\": \"1/5/2022\"}, \"1019\": {\"name\": \"charger\", \"qty\": 30, \"price\": 200, \"Available\": 1, \"Expiry\": \"15/1/2024\"}, \"1020\": {\"name\": \"mobile\", \"qty\": 25, \"price\": 10000, \"Available\": 1, \"Expiry\": \"1/1/2025\"}, \"1021\": {\"name\": \"headphone\", \"qty\": 30, \"price\": 1000, \"Available\": 1, \"Expiry\": \"1/1/2025\"}, \"1022\": {\"name\": \"earphone\", \"qty\": 30, \"price\": 500, \"Available\": 1, \"Expiry\": \"1/1/2025\"}, \"1023\": {\"name\": \"mouse\", \"qty\": 20, \"price\": 1000, \"Available\": 1, \"Expiry\": \"1/1/2025\"}, \"1024\": {\"name\": \"project paper\", \"qty\": 500, \"price\": 1, \"Available\": 1, \"Expiry\": \"1/10/2024\"}, \"1025\": {\"name\": \"board\", \"qty\": 10, \"price\": 300, \"Available\": 1, \"Expiry\": \"1/10/2025\"}, \"1026\": {\"name\": \"battery\", \"qty\": 20, \"price\": 200, \"Available\": 1, \"Expiry\": \"19/1/2022\"}, \"1027\": {\"name\": \"cell\", \"qty\": 50, \"price\": 10, \"Available\": 1, \"Expiry\": \"1/1/2021\"}, \"1028\": {\"name\": \"bag\", \"qty\": 20, \"price\": 100, \"Available\": 1, \"Expiry\": \"1/10/2023\"}, \"1029\": {\"name\": \"purse\", \"qty\": 30, \"price\": 150, \"Available\": 1, \"Expiry\": \"1/1/2025\"}, \"1030\": {\"name\": \"wallet\", \"qty\": 30, \"price\": 100, \"Available\": 1, \"Expiry\": \"1/1/2025\"}, \"1031\": {\"name\": \"belt\", \"qty\": 20, \"price\": 80, \"Available\": 1, \"Expiry\": \"1/10/2023\"}, \"1032\": {\"name\": \"goggle\", \"qty\": 50, \"price\": 300, \"Available\": 1, \"Expiry\": \"1/1/2023\"}, \"1033\": {\"name\": \"marker\", \"qty\": 50, \"price\": 10, \"Available\": 1, \"Expiry\": \"1/10/2023\"}, \"1034\": {\"name\": \"sketchpen\", \"qty\": 40, \"price\": 5, \"Available\": 1, \"Expiry\": \"10/10/2023\"}}'"
            ]
          },
          "metadata": {},
          "execution_count": 46
        }
      ]
    },
    {
      "cell_type": "markdown",
      "metadata": {
        "id": "WGSEuw6CdVK7"
      },
      "source": [
        "Read Data From JSON"
      ]
    },
    {
      "cell_type": "code",
      "metadata": {
        "id": "Uo8d6G98HNlv"
      },
      "source": [
        "fp = open(\"records.txt\", \"r\")\n",
        "txt = fp.read()\n",
        "fp.close()"
      ],
      "execution_count": 47,
      "outputs": []
    },
    {
      "cell_type": "code",
      "metadata": {
        "colab": {
          "base_uri": "https://localhost:8080/",
          "height": 120
        },
        "id": "FovcKlikJv5m",
        "outputId": "ddefcd9d-7b4a-4e84-855a-5ecb28f923ba"
      },
      "source": [
        "txt"
      ],
      "execution_count": 48,
      "outputs": [
        {
          "output_type": "execute_result",
          "data": {
            "application/vnd.google.colaboratory.intrinsic+json": {
              "type": "string"
            },
            "text/plain": [
              "'{\"1001\": {\"name\": \"pen\", \"qty\": 50, \"price\": 10, \"Available\": 1, \"Expiry\": \"5/10/2021\"}, \"1002\": {\"name\": \"pencil\", \"qty\": 100, \"price\": 5, \"Available\": 1, \"Expiry\": \"10/10/2021\"}, \"1003\": {\"name\": \"book\", \"qty\": 200, \"price\": 50, \"Available\": 1, \"Expiry\": \"5/11/2021\"}, \"1004\": {\"name\": \"notebook\", \"qty\": 200, \"price\": 40, \"Available\": 1, \"Expiry\": \"10/11/2021\"}, \"1005\": {\"name\": \"Guide\", \"qty\": 20, \"price\": 100, \"Available\": 1, \"Expiry\": \"15/10/2021\"}, \"1006\": {\"name\": \"chart\", \"qty\": 50, \"price\": 20, \"Available\": 1, \"Expiry\": \"5/10/2022\"}, \"1007\": {\"name\": \"map\", \"qty\": 50, \"price\": 10, \"Available\": 1, \"Expiry\": \"5/1/2021\"}, \"1008\": {\"name\": \"graph\", \"qty\": 50, \"price\": 2, \"Available\": 1, \"Expiry\": \"20/10/2021\"}, \"1009\": {\"name\": \"melody\", \"qty\": 500, \"price\": 1, \"Available\": 1, \"Expiry\": \"5/12/2021\"}, \"1010\": {\"name\": \"mango bite\", \"qty\": 300, \"price\": 1, \"Available\": 1, \"Expiry\": \"5/10/2022\"}, \"1011\": {\"name\": \"popins\", \"qty\": 100, \"price\": 5, \"Available\": 1, \"Expiry\": \"15/10/2022\"}, \"1012\": {\"name\": \"little hearts\", \"qty\": 100, \"price\": 5, \"Available\": 1, \"Expiry\": \"15/4/2022\"}, \"1013\": {\"name\": \"banana chips\", \"qty\": 80, \"price\": 5, \"Available\": 1, \"Expiry\": \"15/9/2022\"}, \"1014\": {\"name\": \"potato chips\", \"qty\": 100, \"price\": 5, \"Available\": 1, \"Expiry\": \"1/10/2022\"}, \"1015\": {\"name\": \"wheel\", \"qty\": 10, \"price\": 500, \"Available\": 1, \"Expiry\": \"15/1/2022\"}, \"1016\": {\"name\": \"screw driver\", \"qty\": 50, \"price\": 15, \"Available\": 1, \"Expiry\": \"15/7/2021\"}, \"1017\": {\"name\": \"scisors\", \"qty\": 100, \"price\": 20, \"Available\": 1, \"Expiry\": \"15/10/2023\"}, \"1018\": {\"name\": \"lighter\", \"qty\": 10, \"price\": 50, \"Available\": 1, \"Expiry\": \"1/5/2022\"}, \"1019\": {\"name\": \"charger\", \"qty\": 30, \"price\": 200, \"Available\": 1, \"Expiry\": \"15/1/2024\"}, \"1020\": {\"name\": \"mobile\", \"qty\": 25, \"price\": 10000, \"Available\": 1, \"Expiry\": \"1/1/2025\"}, \"1021\": {\"name\": \"headphone\", \"qty\": 30, \"price\": 1000, \"Available\": 1, \"Expiry\": \"1/1/2025\"}, \"1022\": {\"name\": \"earphone\", \"qty\": 30, \"price\": 500, \"Available\": 1, \"Expiry\": \"1/1/2025\"}, \"1023\": {\"name\": \"mouse\", \"qty\": 20, \"price\": 1000, \"Available\": 1, \"Expiry\": \"1/1/2025\"}, \"1024\": {\"name\": \"project paper\", \"qty\": 500, \"price\": 1, \"Available\": 1, \"Expiry\": \"1/10/2024\"}, \"1025\": {\"name\": \"board\", \"qty\": 10, \"price\": 300, \"Available\": 1, \"Expiry\": \"1/10/2025\"}, \"1026\": {\"name\": \"battery\", \"qty\": 20, \"price\": 200, \"Available\": 1, \"Expiry\": \"19/1/2022\"}, \"1027\": {\"name\": \"cell\", \"qty\": 50, \"price\": 10, \"Available\": 1, \"Expiry\": \"1/1/2021\"}, \"1028\": {\"name\": \"bag\", \"qty\": 20, \"price\": 100, \"Available\": 1, \"Expiry\": \"1/10/2023\"}, \"1029\": {\"name\": \"purse\", \"qty\": 30, \"price\": 150, \"Available\": 1, \"Expiry\": \"1/1/2025\"}, \"1030\": {\"name\": \"wallet\", \"qty\": 30, \"price\": 100, \"Available\": 1, \"Expiry\": \"1/1/2025\"}, \"1031\": {\"name\": \"belt\", \"qty\": 20, \"price\": 80, \"Available\": 1, \"Expiry\": \"1/10/2023\"}, \"1032\": {\"name\": \"goggle\", \"qty\": 50, \"price\": 300, \"Available\": 1, \"Expiry\": \"1/1/2023\"}, \"1033\": {\"name\": \"marker\", \"qty\": 50, \"price\": 10, \"Available\": 1, \"Expiry\": \"1/10/2023\"}, \"1034\": {\"name\": \"sketchpen\", \"qty\": 40, \"price\": 5, \"Available\": 1, \"Expiry\": \"10/10/2023\"}}'"
            ]
          },
          "metadata": {},
          "execution_count": 48
        }
      ]
    },
    {
      "cell_type": "code",
      "metadata": {
        "colab": {
          "base_uri": "https://localhost:8080/"
        },
        "id": "8EaVwR1-Koy7",
        "outputId": "92d39348-b089-44e1-d8e2-c11ebfbd8eca"
      },
      "source": [
        "first_shop[1009]"
      ],
      "execution_count": 49,
      "outputs": [
        {
          "output_type": "execute_result",
          "data": {
            "text/plain": [
              "{'Available': 1,\n",
              " 'Expiry': '5/12/2021',\n",
              " 'name': 'melody',\n",
              " 'price': 1,\n",
              " 'qty': 500}"
            ]
          },
          "metadata": {},
          "execution_count": 49
        }
      ]
    },
    {
      "cell_type": "code",
      "metadata": {
        "colab": {
          "base_uri": "https://localhost:8080/"
        },
        "id": "-3subPZdLA0n",
        "outputId": "c59ac325-4190-4fd5-c34c-33560ea6db51"
      },
      "source": [
        "type(txt)"
      ],
      "execution_count": 16,
      "outputs": [
        {
          "output_type": "execute_result",
          "data": {
            "text/plain": [
              "str"
            ]
          },
          "metadata": {},
          "execution_count": 16
        }
      ]
    },
    {
      "cell_type": "code",
      "metadata": {
        "id": "izKEax3nLDNK"
      },
      "source": [
        "first_shop[1002]['qty']= 50"
      ],
      "execution_count": 17,
      "outputs": []
    },
    {
      "cell_type": "code",
      "metadata": {
        "colab": {
          "base_uri": "https://localhost:8080/"
        },
        "id": "_BjauDK_LYFr",
        "outputId": "2126ffcc-2d51-4abe-c26a-b518ffc2047e"
      },
      "source": [
        "first_shop"
      ],
      "execution_count": 50,
      "outputs": [
        {
          "output_type": "execute_result",
          "data": {
            "text/plain": [
              "{1001: {'Available': 1,\n",
              "  'Expiry': '5/10/2021',\n",
              "  'name': 'pen',\n",
              "  'price': 10,\n",
              "  'qty': 50},\n",
              " 1002: {'Available': 1,\n",
              "  'Expiry': '10/10/2021',\n",
              "  'name': 'pencil',\n",
              "  'price': 5,\n",
              "  'qty': 100},\n",
              " 1003: {'Available': 1,\n",
              "  'Expiry': '5/11/2021',\n",
              "  'name': 'book',\n",
              "  'price': 50,\n",
              "  'qty': 200},\n",
              " 1004: {'Available': 1,\n",
              "  'Expiry': '10/11/2021',\n",
              "  'name': 'notebook',\n",
              "  'price': 40,\n",
              "  'qty': 200},\n",
              " 1005: {'Available': 1,\n",
              "  'Expiry': '15/10/2021',\n",
              "  'name': 'Guide',\n",
              "  'price': 100,\n",
              "  'qty': 20},\n",
              " 1006: {'Available': 1,\n",
              "  'Expiry': '5/10/2022',\n",
              "  'name': 'chart',\n",
              "  'price': 20,\n",
              "  'qty': 50},\n",
              " 1007: {'Available': 1,\n",
              "  'Expiry': '5/1/2021',\n",
              "  'name': 'map',\n",
              "  'price': 10,\n",
              "  'qty': 50},\n",
              " 1008: {'Available': 1,\n",
              "  'Expiry': '20/10/2021',\n",
              "  'name': 'graph',\n",
              "  'price': 2,\n",
              "  'qty': 50},\n",
              " 1009: {'Available': 1,\n",
              "  'Expiry': '5/12/2021',\n",
              "  'name': 'melody',\n",
              "  'price': 1,\n",
              "  'qty': 500},\n",
              " 1010: {'Available': 1,\n",
              "  'Expiry': '5/10/2022',\n",
              "  'name': 'mango bite',\n",
              "  'price': 1,\n",
              "  'qty': 300},\n",
              " 1011: {'Available': 1,\n",
              "  'Expiry': '15/10/2022',\n",
              "  'name': 'popins',\n",
              "  'price': 5,\n",
              "  'qty': 100},\n",
              " 1012: {'Available': 1,\n",
              "  'Expiry': '15/4/2022',\n",
              "  'name': 'little hearts',\n",
              "  'price': 5,\n",
              "  'qty': 100},\n",
              " 1013: {'Available': 1,\n",
              "  'Expiry': '15/9/2022',\n",
              "  'name': 'banana chips',\n",
              "  'price': 5,\n",
              "  'qty': 80},\n",
              " 1014: {'Available': 1,\n",
              "  'Expiry': '1/10/2022',\n",
              "  'name': 'potato chips',\n",
              "  'price': 5,\n",
              "  'qty': 100},\n",
              " 1015: {'Available': 1,\n",
              "  'Expiry': '15/1/2022',\n",
              "  'name': 'wheel',\n",
              "  'price': 500,\n",
              "  'qty': 10},\n",
              " 1016: {'Available': 1,\n",
              "  'Expiry': '15/7/2021',\n",
              "  'name': 'screw driver',\n",
              "  'price': 15,\n",
              "  'qty': 50},\n",
              " 1017: {'Available': 1,\n",
              "  'Expiry': '15/10/2023',\n",
              "  'name': 'scisors',\n",
              "  'price': 20,\n",
              "  'qty': 100},\n",
              " 1018: {'Available': 1,\n",
              "  'Expiry': '1/5/2022',\n",
              "  'name': 'lighter',\n",
              "  'price': 50,\n",
              "  'qty': 10},\n",
              " 1019: {'Available': 1,\n",
              "  'Expiry': '15/1/2024',\n",
              "  'name': 'charger',\n",
              "  'price': 200,\n",
              "  'qty': 30},\n",
              " 1020: {'Available': 1,\n",
              "  'Expiry': '1/1/2025',\n",
              "  'name': 'mobile',\n",
              "  'price': 10000,\n",
              "  'qty': 25},\n",
              " 1021: {'Available': 1,\n",
              "  'Expiry': '1/1/2025',\n",
              "  'name': 'headphone',\n",
              "  'price': 1000,\n",
              "  'qty': 30},\n",
              " 1022: {'Available': 1,\n",
              "  'Expiry': '1/1/2025',\n",
              "  'name': 'earphone',\n",
              "  'price': 500,\n",
              "  'qty': 30},\n",
              " 1023: {'Available': 1,\n",
              "  'Expiry': '1/1/2025',\n",
              "  'name': 'mouse',\n",
              "  'price': 1000,\n",
              "  'qty': 20},\n",
              " 1024: {'Available': 1,\n",
              "  'Expiry': '1/10/2024',\n",
              "  'name': 'project paper',\n",
              "  'price': 1,\n",
              "  'qty': 500},\n",
              " 1025: {'Available': 1,\n",
              "  'Expiry': '1/10/2025',\n",
              "  'name': 'board',\n",
              "  'price': 300,\n",
              "  'qty': 10},\n",
              " 1026: {'Available': 1,\n",
              "  'Expiry': '19/1/2022',\n",
              "  'name': 'battery',\n",
              "  'price': 200,\n",
              "  'qty': 20},\n",
              " 1027: {'Available': 1,\n",
              "  'Expiry': '1/1/2021',\n",
              "  'name': 'cell',\n",
              "  'price': 10,\n",
              "  'qty': 50},\n",
              " 1028: {'Available': 1,\n",
              "  'Expiry': '1/10/2023',\n",
              "  'name': 'bag',\n",
              "  'price': 100,\n",
              "  'qty': 20},\n",
              " 1029: {'Available': 1,\n",
              "  'Expiry': '1/1/2025',\n",
              "  'name': 'purse',\n",
              "  'price': 150,\n",
              "  'qty': 30},\n",
              " 1030: {'Available': 1,\n",
              "  'Expiry': '1/1/2025',\n",
              "  'name': 'wallet',\n",
              "  'price': 100,\n",
              "  'qty': 30},\n",
              " 1031: {'Available': 1,\n",
              "  'Expiry': '1/10/2023',\n",
              "  'name': 'belt',\n",
              "  'price': 80,\n",
              "  'qty': 20},\n",
              " 1032: {'Available': 1,\n",
              "  'Expiry': '1/1/2023',\n",
              "  'name': 'goggle',\n",
              "  'price': 300,\n",
              "  'qty': 50},\n",
              " 1033: {'Available': 1,\n",
              "  'Expiry': '1/10/2023',\n",
              "  'name': 'marker',\n",
              "  'price': 10,\n",
              "  'qty': 50},\n",
              " 1034: {'Available': 1,\n",
              "  'Expiry': '10/10/2023',\n",
              "  'name': 'sketchpen',\n",
              "  'price': 5,\n",
              "  'qty': 40}}"
            ]
          },
          "metadata": {},
          "execution_count": 50
        }
      ]
    },
    {
      "cell_type": "code",
      "metadata": {
        "colab": {
          "base_uri": "https://localhost:8080/"
        },
        "id": "0mEsGICULi-g",
        "outputId": "cef6c055-aa05-4c49-a412-2edbc42e0dec"
      },
      "source": [
        "item_details= 1019\n",
        "print(first_shop[item_details]['name'])\n",
        "print(first_shop[item_details]['price'])\n",
        "print(first_shop[item_details]['qty'])\n",
        "print(first_shop[item_details]['Expiry'])\n",
        "print(first_shop[item_details]['Available'])"
      ],
      "execution_count": 51,
      "outputs": [
        {
          "output_type": "stream",
          "name": "stdout",
          "text": [
            "charger\n",
            "200\n",
            "30\n",
            "15/1/2024\n",
            "1\n"
          ]
        }
      ]
    },
    {
      "cell_type": "code",
      "metadata": {
        "colab": {
          "base_uri": "https://localhost:8080/"
        },
        "id": "qSC2x9hMN0Uc",
        "outputId": "f0f91e67-cbe9-465e-bb2e-51005217b682"
      },
      "source": [
        "len(first_shop)"
      ],
      "execution_count": 52,
      "outputs": [
        {
          "output_type": "execute_result",
          "data": {
            "text/plain": [
              "34"
            ]
          },
          "metadata": {},
          "execution_count": 52
        }
      ]
    },
    {
      "cell_type": "code",
      "metadata": {
        "id": "sjGtmKn-OqUi"
      },
      "source": [
        "first_shop[1002]['qty'] = first_shop[1002]['qty'] - 5"
      ],
      "execution_count": 53,
      "outputs": []
    },
    {
      "cell_type": "code",
      "metadata": {
        "colab": {
          "base_uri": "https://localhost:8080/"
        },
        "id": "Ejl_kP19Ox1y",
        "outputId": "a25e94ad-aa5e-4902-b26f-c437d175534f"
      },
      "source": [
        "first_shop[1002]['qty']"
      ],
      "execution_count": 54,
      "outputs": [
        {
          "output_type": "execute_result",
          "data": {
            "text/plain": [
              "95"
            ]
          },
          "metadata": {},
          "execution_count": 54
        }
      ]
    },
    {
      "cell_type": "code",
      "metadata": {
        "id": "RhtpJr6tO5zl"
      },
      "source": [
        "first_shop[1025]['qty']= first_shop[1025]['qty'] - 2"
      ],
      "execution_count": 55,
      "outputs": []
    },
    {
      "cell_type": "code",
      "metadata": {
        "colab": {
          "base_uri": "https://localhost:8080/"
        },
        "id": "YtoFaRt9PEBC",
        "outputId": "62aca48f-e208-4f07-f76d-678016336c07"
      },
      "source": [
        "first_shop[1025]['qty']"
      ],
      "execution_count": 56,
      "outputs": [
        {
          "output_type": "execute_result",
          "data": {
            "text/plain": [
              "8"
            ]
          },
          "metadata": {},
          "execution_count": 56
        }
      ]
    },
    {
      "cell_type": "code",
      "metadata": {
        "id": "NHgXPNF8PKQe"
      },
      "source": [
        "first_shop[1033]['qty']= first_shop[1033]['qty'] - 15"
      ],
      "execution_count": 57,
      "outputs": []
    },
    {
      "cell_type": "code",
      "metadata": {
        "colab": {
          "base_uri": "https://localhost:8080/"
        },
        "id": "3CEp2lnzPQOL",
        "outputId": "92f9a609-c1fa-48c5-e4b0-33747f27d455"
      },
      "source": [
        "first_shop[1033]['qty']"
      ],
      "execution_count": 58,
      "outputs": [
        {
          "output_type": "execute_result",
          "data": {
            "text/plain": [
              "35"
            ]
          },
          "metadata": {},
          "execution_count": 58
        }
      ]
    },
    {
      "cell_type": "code",
      "metadata": {
        "id": "b07E_OplPi7J"
      },
      "source": [
        "first_shop[1016]['qty']= first_shop[1016]['qty'] - 23"
      ],
      "execution_count": 59,
      "outputs": []
    },
    {
      "cell_type": "code",
      "metadata": {
        "colab": {
          "base_uri": "https://localhost:8080/"
        },
        "id": "X44tYcFCPpkt",
        "outputId": "d83b862e-4c71-430f-843b-2de2dcd642a3"
      },
      "source": [
        "first_shop[1016]['qty']"
      ],
      "execution_count": 60,
      "outputs": [
        {
          "output_type": "execute_result",
          "data": {
            "text/plain": [
              "27"
            ]
          },
          "metadata": {},
          "execution_count": 60
        }
      ]
    },
    {
      "cell_type": "code",
      "metadata": {
        "colab": {
          "base_uri": "https://localhost:8080/"
        },
        "id": "W7H4MY-VPtAG",
        "outputId": "d0d46053-6806-4d4b-fbad-c50016455284"
      },
      "source": [
        "first_shop"
      ],
      "execution_count": 61,
      "outputs": [
        {
          "output_type": "execute_result",
          "data": {
            "text/plain": [
              "{1001: {'Available': 1,\n",
              "  'Expiry': '5/10/2021',\n",
              "  'name': 'pen',\n",
              "  'price': 10,\n",
              "  'qty': 50},\n",
              " 1002: {'Available': 1,\n",
              "  'Expiry': '10/10/2021',\n",
              "  'name': 'pencil',\n",
              "  'price': 5,\n",
              "  'qty': 95},\n",
              " 1003: {'Available': 1,\n",
              "  'Expiry': '5/11/2021',\n",
              "  'name': 'book',\n",
              "  'price': 50,\n",
              "  'qty': 200},\n",
              " 1004: {'Available': 1,\n",
              "  'Expiry': '10/11/2021',\n",
              "  'name': 'notebook',\n",
              "  'price': 40,\n",
              "  'qty': 200},\n",
              " 1005: {'Available': 1,\n",
              "  'Expiry': '15/10/2021',\n",
              "  'name': 'Guide',\n",
              "  'price': 100,\n",
              "  'qty': 20},\n",
              " 1006: {'Available': 1,\n",
              "  'Expiry': '5/10/2022',\n",
              "  'name': 'chart',\n",
              "  'price': 20,\n",
              "  'qty': 50},\n",
              " 1007: {'Available': 1,\n",
              "  'Expiry': '5/1/2021',\n",
              "  'name': 'map',\n",
              "  'price': 10,\n",
              "  'qty': 50},\n",
              " 1008: {'Available': 1,\n",
              "  'Expiry': '20/10/2021',\n",
              "  'name': 'graph',\n",
              "  'price': 2,\n",
              "  'qty': 50},\n",
              " 1009: {'Available': 1,\n",
              "  'Expiry': '5/12/2021',\n",
              "  'name': 'melody',\n",
              "  'price': 1,\n",
              "  'qty': 500},\n",
              " 1010: {'Available': 1,\n",
              "  'Expiry': '5/10/2022',\n",
              "  'name': 'mango bite',\n",
              "  'price': 1,\n",
              "  'qty': 300},\n",
              " 1011: {'Available': 1,\n",
              "  'Expiry': '15/10/2022',\n",
              "  'name': 'popins',\n",
              "  'price': 5,\n",
              "  'qty': 100},\n",
              " 1012: {'Available': 1,\n",
              "  'Expiry': '15/4/2022',\n",
              "  'name': 'little hearts',\n",
              "  'price': 5,\n",
              "  'qty': 100},\n",
              " 1013: {'Available': 1,\n",
              "  'Expiry': '15/9/2022',\n",
              "  'name': 'banana chips',\n",
              "  'price': 5,\n",
              "  'qty': 80},\n",
              " 1014: {'Available': 1,\n",
              "  'Expiry': '1/10/2022',\n",
              "  'name': 'potato chips',\n",
              "  'price': 5,\n",
              "  'qty': 100},\n",
              " 1015: {'Available': 1,\n",
              "  'Expiry': '15/1/2022',\n",
              "  'name': 'wheel',\n",
              "  'price': 500,\n",
              "  'qty': 10},\n",
              " 1016: {'Available': 1,\n",
              "  'Expiry': '15/7/2021',\n",
              "  'name': 'screw driver',\n",
              "  'price': 15,\n",
              "  'qty': 27},\n",
              " 1017: {'Available': 1,\n",
              "  'Expiry': '15/10/2023',\n",
              "  'name': 'scisors',\n",
              "  'price': 20,\n",
              "  'qty': 100},\n",
              " 1018: {'Available': 1,\n",
              "  'Expiry': '1/5/2022',\n",
              "  'name': 'lighter',\n",
              "  'price': 50,\n",
              "  'qty': 10},\n",
              " 1019: {'Available': 1,\n",
              "  'Expiry': '15/1/2024',\n",
              "  'name': 'charger',\n",
              "  'price': 200,\n",
              "  'qty': 30},\n",
              " 1020: {'Available': 1,\n",
              "  'Expiry': '1/1/2025',\n",
              "  'name': 'mobile',\n",
              "  'price': 10000,\n",
              "  'qty': 25},\n",
              " 1021: {'Available': 1,\n",
              "  'Expiry': '1/1/2025',\n",
              "  'name': 'headphone',\n",
              "  'price': 1000,\n",
              "  'qty': 30},\n",
              " 1022: {'Available': 1,\n",
              "  'Expiry': '1/1/2025',\n",
              "  'name': 'earphone',\n",
              "  'price': 500,\n",
              "  'qty': 30},\n",
              " 1023: {'Available': 1,\n",
              "  'Expiry': '1/1/2025',\n",
              "  'name': 'mouse',\n",
              "  'price': 1000,\n",
              "  'qty': 20},\n",
              " 1024: {'Available': 1,\n",
              "  'Expiry': '1/10/2024',\n",
              "  'name': 'project paper',\n",
              "  'price': 1,\n",
              "  'qty': 500},\n",
              " 1025: {'Available': 1,\n",
              "  'Expiry': '1/10/2025',\n",
              "  'name': 'board',\n",
              "  'price': 300,\n",
              "  'qty': 8},\n",
              " 1026: {'Available': 1,\n",
              "  'Expiry': '19/1/2022',\n",
              "  'name': 'battery',\n",
              "  'price': 200,\n",
              "  'qty': 20},\n",
              " 1027: {'Available': 1,\n",
              "  'Expiry': '1/1/2021',\n",
              "  'name': 'cell',\n",
              "  'price': 10,\n",
              "  'qty': 50},\n",
              " 1028: {'Available': 1,\n",
              "  'Expiry': '1/10/2023',\n",
              "  'name': 'bag',\n",
              "  'price': 100,\n",
              "  'qty': 20},\n",
              " 1029: {'Available': 1,\n",
              "  'Expiry': '1/1/2025',\n",
              "  'name': 'purse',\n",
              "  'price': 150,\n",
              "  'qty': 30},\n",
              " 1030: {'Available': 1,\n",
              "  'Expiry': '1/1/2025',\n",
              "  'name': 'wallet',\n",
              "  'price': 100,\n",
              "  'qty': 30},\n",
              " 1031: {'Available': 1,\n",
              "  'Expiry': '1/10/2023',\n",
              "  'name': 'belt',\n",
              "  'price': 80,\n",
              "  'qty': 20},\n",
              " 1032: {'Available': 1,\n",
              "  'Expiry': '1/1/2023',\n",
              "  'name': 'goggle',\n",
              "  'price': 300,\n",
              "  'qty': 50},\n",
              " 1033: {'Available': 1,\n",
              "  'Expiry': '1/10/2023',\n",
              "  'name': 'marker',\n",
              "  'price': 10,\n",
              "  'qty': 35},\n",
              " 1034: {'Available': 1,\n",
              "  'Expiry': '10/10/2023',\n",
              "  'name': 'sketchpen',\n",
              "  'price': 5,\n",
              "  'qty': 40}}"
            ]
          },
          "metadata": {},
          "execution_count": 61
        }
      ]
    },
    {
      "cell_type": "markdown",
      "metadata": {
        "id": "ez6RcHeiW4gZ"
      },
      "source": [
        "Adding new item to the inventory"
      ]
    },
    {
      "cell_type": "code",
      "metadata": {
        "colab": {
          "base_uri": "https://localhost:8080/"
        },
        "id": "fYqutUMBUbaY",
        "outputId": "c41c008e-3e80-430b-ceb9-a67d4795efd5"
      },
      "source": [
        "prod_id = input(\"Enter the Product ID: \")\n",
        "name = input(\"Enter the Name of the Product: \")\n",
        "price = int(input(\"Enter the price per Item: \"))\n",
        "qty = int(input(\"Enter The Quantity of the Product you want to add: \"))\n",
        "Expiry = input(\"Enter the expiry date of the Product: \")\n",
        "Available = input(\"Enter the Product is available or not: \")\n",
        "\n",
        "first_shop[prod_id] = {\"name\":name,\"price\":price,\"qty\":qty,\"Expiry\":Expiry,\"Available\":Available}\n",
        "\n",
        "js = json.dumps(first_shop)\n",
        "\n",
        "fd = open(\"first_shop.json\",\"w\")\n",
        "fd.write(js)\n",
        "fd.close()"
      ],
      "execution_count": 62,
      "outputs": [
        {
          "name": "stdout",
          "output_type": "stream",
          "text": [
            "Enter the Product ID: 1035\n",
            "Enter the Name of the Product: school tie\n",
            "Enter the price per Item: 60\n",
            "Enter The Quantity of the Product you want to add: 120\n",
            "Enter the expiry date of the Product: 05/08/2028\n",
            "Enter the Product is available or not: 1\n"
          ]
        }
      ]
    },
    {
      "cell_type": "code",
      "metadata": {
        "colab": {
          "base_uri": "https://localhost:8080/"
        },
        "id": "gq-0Kb8MVm9e",
        "outputId": "9f337ed8-fcb3-4fb7-d21e-fb4d9058654f"
      },
      "source": [
        "first_shop"
      ],
      "execution_count": 63,
      "outputs": [
        {
          "output_type": "execute_result",
          "data": {
            "text/plain": [
              "{1001: {'Available': 1,\n",
              "  'Expiry': '5/10/2021',\n",
              "  'name': 'pen',\n",
              "  'price': 10,\n",
              "  'qty': 50},\n",
              " 1002: {'Available': 1,\n",
              "  'Expiry': '10/10/2021',\n",
              "  'name': 'pencil',\n",
              "  'price': 5,\n",
              "  'qty': 95},\n",
              " 1003: {'Available': 1,\n",
              "  'Expiry': '5/11/2021',\n",
              "  'name': 'book',\n",
              "  'price': 50,\n",
              "  'qty': 200},\n",
              " 1004: {'Available': 1,\n",
              "  'Expiry': '10/11/2021',\n",
              "  'name': 'notebook',\n",
              "  'price': 40,\n",
              "  'qty': 200},\n",
              " 1005: {'Available': 1,\n",
              "  'Expiry': '15/10/2021',\n",
              "  'name': 'Guide',\n",
              "  'price': 100,\n",
              "  'qty': 20},\n",
              " 1006: {'Available': 1,\n",
              "  'Expiry': '5/10/2022',\n",
              "  'name': 'chart',\n",
              "  'price': 20,\n",
              "  'qty': 50},\n",
              " 1007: {'Available': 1,\n",
              "  'Expiry': '5/1/2021',\n",
              "  'name': 'map',\n",
              "  'price': 10,\n",
              "  'qty': 50},\n",
              " 1008: {'Available': 1,\n",
              "  'Expiry': '20/10/2021',\n",
              "  'name': 'graph',\n",
              "  'price': 2,\n",
              "  'qty': 50},\n",
              " 1009: {'Available': 1,\n",
              "  'Expiry': '5/12/2021',\n",
              "  'name': 'melody',\n",
              "  'price': 1,\n",
              "  'qty': 500},\n",
              " 1010: {'Available': 1,\n",
              "  'Expiry': '5/10/2022',\n",
              "  'name': 'mango bite',\n",
              "  'price': 1,\n",
              "  'qty': 300},\n",
              " 1011: {'Available': 1,\n",
              "  'Expiry': '15/10/2022',\n",
              "  'name': 'popins',\n",
              "  'price': 5,\n",
              "  'qty': 100},\n",
              " 1012: {'Available': 1,\n",
              "  'Expiry': '15/4/2022',\n",
              "  'name': 'little hearts',\n",
              "  'price': 5,\n",
              "  'qty': 100},\n",
              " 1013: {'Available': 1,\n",
              "  'Expiry': '15/9/2022',\n",
              "  'name': 'banana chips',\n",
              "  'price': 5,\n",
              "  'qty': 80},\n",
              " 1014: {'Available': 1,\n",
              "  'Expiry': '1/10/2022',\n",
              "  'name': 'potato chips',\n",
              "  'price': 5,\n",
              "  'qty': 100},\n",
              " 1015: {'Available': 1,\n",
              "  'Expiry': '15/1/2022',\n",
              "  'name': 'wheel',\n",
              "  'price': 500,\n",
              "  'qty': 10},\n",
              " 1016: {'Available': 1,\n",
              "  'Expiry': '15/7/2021',\n",
              "  'name': 'screw driver',\n",
              "  'price': 15,\n",
              "  'qty': 27},\n",
              " 1017: {'Available': 1,\n",
              "  'Expiry': '15/10/2023',\n",
              "  'name': 'scisors',\n",
              "  'price': 20,\n",
              "  'qty': 100},\n",
              " 1018: {'Available': 1,\n",
              "  'Expiry': '1/5/2022',\n",
              "  'name': 'lighter',\n",
              "  'price': 50,\n",
              "  'qty': 10},\n",
              " 1019: {'Available': 1,\n",
              "  'Expiry': '15/1/2024',\n",
              "  'name': 'charger',\n",
              "  'price': 200,\n",
              "  'qty': 30},\n",
              " 1020: {'Available': 1,\n",
              "  'Expiry': '1/1/2025',\n",
              "  'name': 'mobile',\n",
              "  'price': 10000,\n",
              "  'qty': 25},\n",
              " 1021: {'Available': 1,\n",
              "  'Expiry': '1/1/2025',\n",
              "  'name': 'headphone',\n",
              "  'price': 1000,\n",
              "  'qty': 30},\n",
              " 1022: {'Available': 1,\n",
              "  'Expiry': '1/1/2025',\n",
              "  'name': 'earphone',\n",
              "  'price': 500,\n",
              "  'qty': 30},\n",
              " 1023: {'Available': 1,\n",
              "  'Expiry': '1/1/2025',\n",
              "  'name': 'mouse',\n",
              "  'price': 1000,\n",
              "  'qty': 20},\n",
              " 1024: {'Available': 1,\n",
              "  'Expiry': '1/10/2024',\n",
              "  'name': 'project paper',\n",
              "  'price': 1,\n",
              "  'qty': 500},\n",
              " 1025: {'Available': 1,\n",
              "  'Expiry': '1/10/2025',\n",
              "  'name': 'board',\n",
              "  'price': 300,\n",
              "  'qty': 8},\n",
              " 1026: {'Available': 1,\n",
              "  'Expiry': '19/1/2022',\n",
              "  'name': 'battery',\n",
              "  'price': 200,\n",
              "  'qty': 20},\n",
              " 1027: {'Available': 1,\n",
              "  'Expiry': '1/1/2021',\n",
              "  'name': 'cell',\n",
              "  'price': 10,\n",
              "  'qty': 50},\n",
              " 1028: {'Available': 1,\n",
              "  'Expiry': '1/10/2023',\n",
              "  'name': 'bag',\n",
              "  'price': 100,\n",
              "  'qty': 20},\n",
              " 1029: {'Available': 1,\n",
              "  'Expiry': '1/1/2025',\n",
              "  'name': 'purse',\n",
              "  'price': 150,\n",
              "  'qty': 30},\n",
              " 1030: {'Available': 1,\n",
              "  'Expiry': '1/1/2025',\n",
              "  'name': 'wallet',\n",
              "  'price': 100,\n",
              "  'qty': 30},\n",
              " 1031: {'Available': 1,\n",
              "  'Expiry': '1/10/2023',\n",
              "  'name': 'belt',\n",
              "  'price': 80,\n",
              "  'qty': 20},\n",
              " 1032: {'Available': 1,\n",
              "  'Expiry': '1/1/2023',\n",
              "  'name': 'goggle',\n",
              "  'price': 300,\n",
              "  'qty': 50},\n",
              " 1033: {'Available': 1,\n",
              "  'Expiry': '1/10/2023',\n",
              "  'name': 'marker',\n",
              "  'price': 10,\n",
              "  'qty': 35},\n",
              " 1034: {'Available': 1,\n",
              "  'Expiry': '10/10/2023',\n",
              "  'name': 'sketchpen',\n",
              "  'price': 5,\n",
              "  'qty': 40},\n",
              " '1035': {'Available': '1',\n",
              "  'Expiry': '05/08/2028',\n",
              "  'name': 'school tie',\n",
              "  'price': 60,\n",
              "  'qty': 120}}"
            ]
          },
          "metadata": {},
          "execution_count": 63
        }
      ]
    },
    {
      "cell_type": "code",
      "metadata": {
        "colab": {
          "base_uri": "https://localhost:8080/"
        },
        "id": "L834o2LgWv66",
        "outputId": "fc0b27df-3385-4f95-e891-ff37102b1d85"
      },
      "source": [
        "len(first_shop)"
      ],
      "execution_count": 64,
      "outputs": [
        {
          "output_type": "execute_result",
          "data": {
            "text/plain": [
              "35"
            ]
          },
          "metadata": {},
          "execution_count": 64
        }
      ]
    }
  ]
}